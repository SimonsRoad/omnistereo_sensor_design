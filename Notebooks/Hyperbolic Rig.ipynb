{
 "cells": [
  {
   "cell_type": "code",
   "execution_count": 74,
   "metadata": {
    "collapsed": false
   },
   "outputs": [],
   "source": [
    "from __future__ import division\n",
    "import sympy\n",
    "from sympy import *\n",
    "import numpy as np\n",
    "import matplotlib.pyplot as plt\n",
    "from sympy import pprint as pp\n",
    "\n",
    "# Enable LaTeX-based rendering\n",
    "#%load_ext sympy.interactive.ipythonprinting\n",
    "# New way of setting printing:\n",
    "from sympy import init_printing\n",
    "init_printing()\n",
    "\n",
    "from IPython.display import display"
   ]
  },
  {
   "cell_type": "markdown",
   "metadata": {},
   "source": [
    "# 1 - Design parameters"
   ]
  },
  {
   "cell_type": "code",
   "execution_count": 292,
   "metadata": {
    "collapsed": false
   },
   "outputs": [],
   "source": [
    "w, h, b, d, c1, c2, k1, k2, r_sys, r_ref = symbols(\"w, h, b, d, c_1, c_2, k_1, k_2, r_{sys}, r_{ref}\", real=True)\n",
    "# Constraints for hyperboloids:\n",
    "k1_constraint = k1 > 2\n",
    "k2_constraint = k2 > 2\n",
    "c1_constraint = c1 > 0\n",
    "c2_constraint = c2 > 0\n",
    "xw, yw, zw = symbols(\"x_w, y_w, z_w\", real=True)"
   ]
  },
  {
   "cell_type": "markdown",
   "metadata": {},
   "source": [
    "## System Height"
   ]
  },
  {
   "cell_type": "markdown",
   "metadata": {},
   "source": [
    "From `Geometry Expressions`, we obtain:\n",
    "\n",
    "$h=\n",
    "\\left\\lvert{\\dfrac{c_{1}}{2} + \\dfrac{c_{2}}{2} - d + \\sqrt{\\dfrac{c_{1}^{2} \\left(k_{1} - 2\\right)}{4 k_{1}} + w^{2} \\left(\\dfrac{k_{1}}{2} + 1\\right)} + \\sqrt{\\dfrac{c_{2}^{2} \\left(k_{2} - 2\\right)}{4 k_{2}} + w^{2} \\left(\\dfrac{k_{2}}{2} + 1\\right)}}\\right\\rvert\n",
    "$"
   ]
  },
  {
   "cell_type": "code",
   "execution_count": 322,
   "metadata": {
    "collapsed": false
   },
   "outputs": [
    {
     "data": {
      "image/png": "[encoded data removed]",
      "text/latex": [
       "$$\\left\\lvert{\\frac{c_{1}}{2} + \\frac{c_{2}}{2} - d + \\frac{1}{2} \\sqrt{\\frac{1}{k_{1}} \\left(c_{1}^{2} \\left(k_{1} - 2\\right) + 2 k_{1} w^{2} \\left(k_{1} + 2\\right)\\right)} + \\frac{1}{2} \\sqrt{\\frac{1}{k_{2}} \\left(c_{2}^{2} \\left(k_{2} - 2\\right) + 2 k_{2} w^{2} \\left(k_{2} + 2\\right)\\right)}}\\right\\rvert$$"
      ],
      "text/plain": [
       "│                   _________________________________        _________________\n",
       "│                  ╱   2                  2                 ╱   2             \n",
       "│                 ╱  c₁ ⋅(k₁ - 2) + 2⋅k₁⋅w ⋅(k₁ + 2)       ╱  c₂ ⋅(k₂ - 2) + 2\n",
       "│                ╱   ───────────────────────────────      ╱   ────────────────\n",
       "│c₁   c₂       ╲╱                   k₁                  ╲╱                   k\n",
       "│── + ── - d + ────────────────────────────────────── + ──────────────────────\n",
       "│2    2                          2                                        2   \n",
       "\n",
       "________________│\n",
       "     2          │\n",
       "⋅k₂⋅w ⋅(k₂ + 2) │\n",
       "─────────────── │\n",
       "₂               │\n",
       "────────────────│\n",
       "                │"
      ]
     },
     "metadata": {},
     "output_type": "display_data"
    },
    {
     "name": "stdout",
     "output_type": "stream",
     "text": [
      "b - c₁ - c₂ + d\n"
     ]
    },
    {
     "data": {
      "image/png": "[encoded data removed]",
      "text/latex": [
       "$$\\begin{bmatrix}c_{1} + c_{2} - d\\end{bmatrix}$$"
      ],
      "text/plain": [
       "[c₁ + c₂ - d]"
      ]
     },
     "metadata": {},
     "output_type": "display_data"
    }
   ],
   "source": [
    "h_eqn = abs((c1/2)+(c2/2) - d + sqrt((k1-2)*(c1)**(2)/(4*k1)+ (w**2)*(1+k1/2))+ sqrt((k2-2)*(c2)**(2)/(4*k2)+ (w**2)*(1+k2/2)))\n",
    "h_eqn\n",
    "display(simplify(h_eqn))\n",
    "baseline_eqn = b-(c1 + c2 - d)\n",
    "pp(baseline_eqn)\n",
    "#print(sympy.latex(h_eqn))\n",
    "#h_eqn\n",
    "#print(sympy.latex(baseline_eqn))\n",
    "baseline_sln = solve(baseline_eqn, b)\n",
    "display(baseline_sln)\n"
   ]
  },
  {
   "cell_type": "markdown",
   "metadata": {},
   "source": [
    "## Lens Hole Radius"
   ]
  },
  {
   "cell_type": "markdown",
   "metadata": {},
   "source": [
    "From `Geometry Expressions`, we obtain:\n",
    "\n",
    "$\\beta = arctan\\left (\\dfrac{r_{sys}}{\\dfrac{c_{1}}{2}+\\sqrt{\\dfrac{c_{1}^{2}\\cdot \\left (-2+k_{1}\\right )}{4\\cdot k_{1}}+r_{sys}^{2}\\cdot \\left (-1+\\dfrac{k_{1}}{2}\\right )}}\\right )$\n",
    "\n",
    "$r_{\\beta} =\\begin{array}{l}\\dfrac{\\sqrt{k_{1}}\\cdot r_{sys}\\cdot \\left (2\\cdot d\\cdot \\sqrt{k_{2}}-c_{2}\\cdot \\sqrt{k_{2}}-c_{2}\\cdot \\sqrt{-2+k_{2}}\\right )}{\\sqrt{k_{2}}\\cdot \\left (c_{1}\\cdot \\sqrt{k_{1}}+\\sqrt{-2\\cdot c_{1}^{2}+c_{1}^{2}\\cdot k_{1}-4\\cdot k_{1}\\cdot r_{sys}^{2}+2\\cdot k_{1}^{2}\\cdot r_{sys}^{2}}\\right )}\\\\d-\\dfrac{c_{2}}{2}-\\dfrac{c_{2}\\cdot \\sqrt{-2+k_{2}}}{2\\cdot \\sqrt{k_{2}}}>0\\end{array}$"
   ]
  },
  {
   "cell_type": "markdown",
   "metadata": {},
   "source": [
    "# 2 - Mirror profiles (expressions)"
   ]
  },
  {
   "cell_type": "markdown",
   "metadata": {},
   "source": [
    "## Mirror 1 (Top)"
   ]
  },
  {
   "cell_type": "markdown",
   "metadata": {},
   "source": [
    "\\begin{align}\n",
    " {\\left(z_1 - \\frac{{{c_1}}}{2} \\right)^2} - ({x_1^2} + {y_1^2})\\left(\\frac{{{k_1}}}{2} - 1\\right) &= \\frac{{c_1^2}}{4}\\left(\\frac{{{k_1} - 2}}{{{k_1}}}\\right)\n",
    "\\end{align}"
   ]
  },
  {
   "cell_type": "code",
   "execution_count": 294,
   "metadata": {
    "collapsed": false
   },
   "outputs": [],
   "source": [
    "x1, y1, z1 = symbols(\"x_1, y_1, z_1\", real=True)"
   ]
  },
  {
   "cell_type": "code",
   "execution_count": 324,
   "metadata": {
    "collapsed": false
   },
   "outputs": [
    {
     "data": {
      "image/png": "[encoded data removed]",
      "text/latex": [
       "$$\\frac{c_{1}^{2}}{2 k_{1}} - c_{1} z_{1} - \\frac{k_{1} x_{1}^{2}}{2} - \\frac{k_{1} y_{1}^{2}}{2} + x_{1}^{2} + y_{1}^{2} + z_{1}^{2}$$"
      ],
      "text/plain": [
       "  2                 2        2                  \n",
       "c₁             k₁⋅x₁    k₁⋅y₁      2     2     2\n",
       "──── - c₁⋅z₁ - ────── - ────── + x₁  + y₁  + z₁ \n",
       "2⋅k₁             2        2                     "
      ]
     },
     "metadata": {},
     "output_type": "display_data"
    },
    {
     "data": {
      "image/png": "[encoded data removed]",
      "text/latex": [
       "$$- \\frac{c_{1}}{2} + z_{1} - \\left\\lvert{\\sqrt{\\frac{c_{1}^{2} \\left(k_{1} - 2\\right)}{4 k_{1}} + \\left(\\frac{k_{1}}{2} - 1\\right) \\left(x_{1}^{2} + y_{1}^{2}\\right)}}\\right\\rvert$$"
      ],
      "text/plain": [
       "            │     _____________________________________│\n",
       "            │    ╱   2                                 │\n",
       "  c₁        │   ╱  c₁ ⋅(k₁ - 2)   ⎛k₁    ⎞ ⎛  2     2⎞ │\n",
       "- ── + z₁ - │  ╱   ──────────── + ⎜── - 1⎟⋅⎝x₁  + y₁ ⎠ │\n",
       "  2         │╲╱        4⋅k₁       ⎝2     ⎠             │"
      ]
     },
     "metadata": {},
     "output_type": "display_data"
    },
    {
     "data": {
      "image/png": "[encoded data removed]",
      "text/latex": [
       "$$- \\frac{c_{1}}{2} + z_{1} - \\left\\lvert{\\sqrt{\\frac{c_{1}^{2}}{4} - \\frac{c_{1}^{2}}{2 k_{1}} + \\frac{k_{1} x_{1}^{2}}{2} + \\frac{k_{1} y_{1}^{2}}{2} - x_{1}^{2} - y_{1}^{2}}}\\right\\rvert$$"
      ],
      "text/plain": [
       "            │     __________________________________________│\n",
       "            │    ╱   2     2         2        2             │\n",
       "  c₁        │   ╱  c₁    c₁     k₁⋅x₁    k₁⋅y₁      2     2 │\n",
       "- ── + z₁ - │  ╱   ─── - ──── + ────── + ────── - x₁  - y₁  │\n",
       "  2         │╲╱     4    2⋅k₁     2        2                │"
      ]
     },
     "metadata": {},
     "output_type": "display_data"
    }
   ],
   "source": [
    "mirror_1_eqn = (z1 - c1/2)**2 - (x1**2 + y1**2)*(k1/2 - 1) - (c1**2/4)*((k1 - 2)/k1) \n",
    "display(expand(mirror_1_eqn))\n",
    "mirror_1_eqn_top = z1 - c1/2 - abs(sqrt((x1**2 + y1**2)*(k1/2 - 1) + (c1**2/4)*((k1 - 2)/k1)))\n",
    "display(mirror_1_eqn_top)\n",
    "display(expand(mirror_1_eqn_top))"
   ]
  },
  {
   "cell_type": "markdown",
   "metadata": {},
   "source": [
    "## Line passing through points $P_w$ and $F_1$ "
   ]
  },
  {
   "cell_type": "markdown",
   "metadata": {},
   "source": [
    "### Line equations:"
   ]
  },
  {
   "cell_type": "code",
   "execution_count": 296,
   "metadata": {
    "collapsed": false
   },
   "outputs": [
    {
     "data": {
      "image/png": "[encoded data removed]",
      "text/latex": [
       "$$- s_{1} x_{w} + x_{w}$$"
      ],
      "text/plain": [
       "-s₁⋅x_w + x_w"
      ]
     },
     "metadata": {},
     "output_type": "display_data"
    },
    {
     "data": {
      "image/png": "[encoded data removed]",
      "text/latex": [
       "$$- s_{1} y_{w} + y_{w}$$"
      ],
      "text/plain": [
       "-s₁⋅y_w + y_w"
      ]
     },
     "metadata": {},
     "output_type": "display_data"
    },
    {
     "data": {
      "image/png": "[encoded data removed]",
      "text/latex": [
       "$$s_{1} \\left(c_{1} - z_{w}\\right) + z_{w}$$"
      ],
      "text/plain": [
       "s₁⋅(c₁ - z_w) + z_w"
      ]
     },
     "metadata": {},
     "output_type": "display_data"
    }
   ],
   "source": [
    "lambda1, s1 = symbols(\"lambda_1, s_1\", real=True)\n",
    "pos_F1 = (0, 0, c1)\n",
    "\n",
    "x1_on_line = xw + s1 * (pos_F1[0]-xw)\n",
    "display(x1_on_line)\n",
    "\n",
    "y1_on_line = yw + s1 * (pos_F1[1]-yw)\n",
    "display(y1_on_line)\n",
    "\n",
    "z1_on_line = zw + s1 * (pos_F1[2]-zw)\n",
    "display(z1_on_line)"
   ]
  },
  {
   "cell_type": "markdown",
   "metadata": {},
   "source": [
    "Let $\\lambda_1 = 1 - s_1$, so that:"
   ]
  },
  {
   "cell_type": "code",
   "execution_count": 297,
   "metadata": {
    "collapsed": false
   },
   "outputs": [
    {
     "data": {
      "image/png": "[encoded data removed]",
      "text/latex": [
       "$$\\lambda_{1} x_{w}$$"
      ],
      "text/plain": [
       "λ₁⋅x_w"
      ]
     },
     "metadata": {},
     "output_type": "display_data"
    },
    {
     "data": {
      "image/png": "[encoded data removed]",
      "text/latex": [
       "$$\\lambda_{1} y_{w}$$"
      ],
      "text/plain": [
       "λ₁⋅y_w"
      ]
     },
     "metadata": {},
     "output_type": "display_data"
    },
    {
     "data": {
      "image/png": "[encoded data removed]",
      "text/latex": [
       "$$- c_{1} \\lambda_{1} + c_{1} + \\lambda_{1} z_{w}$$"
      ],
      "text/plain": [
       "-c₁⋅λ₁ + c₁ + λ₁⋅z_w"
      ]
     },
     "metadata": {},
     "output_type": "display_data"
    }
   ],
   "source": [
    "s1_eqn = 1 - lambda1\n",
    "\n",
    "xr1_on_line = simplify(x1_on_line.subs({s1: s1_eqn}))\n",
    "display(xr1_on_line)\n",
    "\n",
    "yr1_on_line = simplify(y1_on_line.subs({s1: s1_eqn}))\n",
    "display(yr1_on_line)\n",
    "\n",
    "zr1_on_line = expand(z1_on_line.subs({s1: s1_eqn}))\n",
    "display(zr1_on_line)"
   ]
  },
  {
   "cell_type": "code",
   "execution_count": 298,
   "metadata": {
    "collapsed": false
   },
   "outputs": [
    {
     "data": {
      "image/png": "[encoded data removed]",
      "text/latex": [
       "$$- c_{1} \\lambda_{1} + \\frac{c_{1}}{2} + \\lambda_{1} z_{w} - \\left\\lvert{\\sqrt{\\frac{c_{1}^{2} \\left(k_{1} - 2\\right)}{4 k_{1}} + \\left(\\frac{k_{1}}{2} - 1\\right) \\left(\\lambda_{1}^{2} x_{w}^{2} + \\lambda_{1}^{2} y_{w}^{2}\\right)}}\\right\\rvert$$"
      ],
      "text/plain": [
       "                       │     _______________________________________________│\n",
       "                       │    ╱   2                                           │\n",
       "         c₁            │   ╱  c₁ ⋅(k₁ - 2)   ⎛k₁    ⎞ ⎛  2    2     2    2⎞ │\n",
       "-c₁⋅λ₁ + ── + λ₁⋅z_w - │  ╱   ──────────── + ⎜── - 1⎟⋅⎝λ₁ ⋅x_w  + λ₁ ⋅y_w ⎠ │\n",
       "         2             │╲╱        4⋅k₁       ⎝2     ⎠                       │"
      ]
     },
     "metadata": {},
     "output_type": "display_data"
    }
   ],
   "source": [
    "mirror_1_intersection = mirror_1_eqn_top.subs({x1: xr1_on_line, y1: yr1_on_line, z1:zr1_on_line})\n",
    "display(mirror_1_intersection)"
   ]
  },
  {
   "cell_type": "markdown",
   "metadata": {},
   "source": [
    "## Solving for intersection point $P_1$ "
   ]
  },
  {
   "cell_type": "code",
   "execution_count": 299,
   "metadata": {
    "collapsed": false
   },
   "outputs": [
    {
     "data": {
      "image/png": "[encoded data removed]",
      "text/latex": [
       "$$\\begin{pmatrix}\\frac{c_{1} k_{1} \\left(c_{1} - z_{w}\\right) - \\sqrt{k_{1} \\left(k_{1} - 2\\right) \\left(c_{1}^{2} - 2 c_{1} z_{w} + x_{w}^{2} + y_{w}^{2} + z_{w}^{2}\\right)} \\left\\lvert{c_{1}}\\right\\rvert}{k_{1} \\left(2 c_{1}^{2} - 4 c_{1} z_{w} - k_{1} x_{w}^{2} - k_{1} y_{w}^{2} + 2 x_{w}^{2} + 2 y_{w}^{2} + 2 z_{w}^{2}\\right)}\\end{pmatrix}$$"
      ],
      "text/plain": [
       "⎛                      ___________________________________________________    \n",
       "⎜                     ╱             ⎛  2                 2      2      2⎞     \n",
       "⎜c₁⋅k₁⋅(c₁ - z_w) - ╲╱  k₁⋅(k₁ - 2)⋅⎝c₁  - 2⋅c₁⋅z_w + x_w  + y_w  + z_w ⎠ ⋅│c₁\n",
       "⎜─────────────────────────────────────────────────────────────────────────────\n",
       "⎜        ⎛    2                    2         2        2        2        2⎞    \n",
       "⎝     k₁⋅⎝2⋅c₁  - 4⋅c₁⋅z_w - k₁⋅x_w  - k₁⋅y_w  + 2⋅x_w  + 2⋅y_w  + 2⋅z_w ⎠    \n",
       "\n",
       "  ⎞\n",
       "  ⎟\n",
       "│ ⎟\n",
       "─,⎟\n",
       "  ⎟\n",
       "  ⎠"
      ]
     },
     "metadata": {},
     "output_type": "display_data"
    },
    {
     "data": {
      "image/png": "[encoded data removed]",
      "text/latex": [
       "$$\\begin{pmatrix}\\frac{c_{1} k_{1} \\left(c_{1} - z_{w}\\right) + \\sqrt{k_{1} \\left(k_{1} - 2\\right) \\left(c_{1}^{2} - 2 c_{1} z_{w} + x_{w}^{2} + y_{w}^{2} + z_{w}^{2}\\right)} \\left\\lvert{c_{1}}\\right\\rvert}{k_{1} \\left(2 c_{1}^{2} - 4 c_{1} z_{w} - k_{1} x_{w}^{2} - k_{1} y_{w}^{2} + 2 x_{w}^{2} + 2 y_{w}^{2} + 2 z_{w}^{2}\\right)}\\end{pmatrix}$$"
      ],
      "text/plain": [
       "⎛                      ___________________________________________________    \n",
       "⎜                     ╱             ⎛  2                 2      2      2⎞     \n",
       "⎜c₁⋅k₁⋅(c₁ - z_w) + ╲╱  k₁⋅(k₁ - 2)⋅⎝c₁  - 2⋅c₁⋅z_w + x_w  + y_w  + z_w ⎠ ⋅│c₁\n",
       "⎜─────────────────────────────────────────────────────────────────────────────\n",
       "⎜        ⎛    2                    2         2        2        2        2⎞    \n",
       "⎝     k₁⋅⎝2⋅c₁  - 4⋅c₁⋅z_w - k₁⋅x_w  - k₁⋅y_w  + 2⋅x_w  + 2⋅y_w  + 2⋅z_w ⎠    \n",
       "\n",
       "  ⎞\n",
       "  ⎟\n",
       "│ ⎟\n",
       "─,⎟\n",
       "  ⎟\n",
       "  ⎠"
      ]
     },
     "metadata": {},
     "output_type": "display_data"
    }
   ],
   "source": [
    "lambda1_sln = solve([mirror_1_intersection], lambda1)\n",
    "lambda1_sln_minus = simplify(lambda1_sln[0])\n",
    "display(lambda1_sln_minus)\n",
    "lambda1_sln_plus = together(lambda1_sln[1])\n",
    "display(lambda1_sln_plus)"
   ]
  },
  {
   "cell_type": "code",
   "execution_count": 300,
   "metadata": {
    "collapsed": false
   },
   "outputs": [],
   "source": [
    "lambda1_func_minus = lambdify([c1, k1, xw, yw, zw], lambda1_sln_minus, modules=['numpy'])\n",
    "lambda1_func_plus = lambdify([c1, k1, xw, yw, zw], lambda1_sln_plus, modules=['numpy'])"
   ]
  },
  {
   "cell_type": "markdown",
   "metadata": {},
   "source": [
    "$\\lambda_1$, can be simplified to be\n",
    "\n",
    "\\begin{align}\n",
    "    \\lambda_1=\\frac{c_1}{L_{v_1} \\sqrt{k_1\\cdot(k_1 - 2)} \n",
    "    + k_1 \\left(c_1 - z_w \\right)}\n",
    "\\end{align}\n",
    "\n",
    "where $L_{v_1} = ||{\\vec{f_1} - \\vec{p_w}}|| =|\\sqrt{x_w^2+y_w^2+(c_1 - z_w)^2} |$, which is the distance between $P_w$\n",
    "and mirror 1's focus point $F_1$.\n"
   ]
  },
  {
   "cell_type": "code",
   "execution_count": 301,
   "metadata": {
    "collapsed": false
   },
   "outputs": [
    {
     "data": {
      "image/png": "[encoded data removed]",
      "text/latex": [
       "$$\\frac{c_{1}}{k_{1} \\left(c_{1} - z_{w}\\right) + \\sqrt{k_{1} \\left(k_{1} - 2\\right)} \\sqrt{x_{w}^{2} + y_{w}^{2} + \\left(c_{1} - z_{w}\\right)^{2}}}$$"
      ],
      "text/plain": [
       "                              c₁                              \n",
       "──────────────────────────────────────────────────────────────\n",
       "                                   ___________________________\n",
       "                  _____________   ╱    2      2             2 \n",
       "k₁⋅(c₁ - z_w) + ╲╱ k₁⋅(k₁ - 2) ⋅╲╱  x_w  + y_w  + (c₁ - z_w)  "
      ]
     },
     "metadata": {},
     "output_type": "display_data"
    }
   ],
   "source": [
    "L1w = sqrt(xw**2 + yw**2 + (c1-zw)**2)\n",
    "lambda1_simple = c1/(L1w*sqrt(k1*(k1-2)) + k1*(c1-zw))\n",
    "display(lambda1_simple)\n",
    "lambda1_simple_den = (abs(sqrt(k1*(k1-2)*xw**2 + yw**2 + (c1-zw)**2)) + k1*(c1-zw))\n",
    "den1_simple = lambda1_simple_den*lambda1_simple_den"
   ]
  },
  {
   "cell_type": "markdown",
   "metadata": {},
   "source": [
    "## Mirror 2 (Bottom)"
   ]
  },
  {
   "cell_type": "markdown",
   "metadata": {},
   "source": [
    "\\begin{align}\n",
    "  {\\left(z_2 - \\left(d - \\frac{c_2}{2}\\right) \\right)^2} - ({x_2^2} + {y_2^2})\\left(\\frac{{{k_2}}}{2} - 1\\right) &= \\frac{{c_2^2}}{4}\\left(\\frac{{{k_2} - 2}}{{{k_2}}}\\right)\n",
    "\\end{align}"
   ]
  },
  {
   "cell_type": "code",
   "execution_count": 325,
   "metadata": {
    "collapsed": false
   },
   "outputs": [
    {
     "data": {
      "image/png": "[encoded data removed]",
      "text/latex": [
       "$$\\frac{c_{2}^{2}}{2 k_{2}} - c_{2} d + c_{2} z_{2} + d^{2} - 2 d z_{2} - \\frac{k_{2} x_{2}^{2}}{2} - \\frac{k_{2} y_{2}^{2}}{2} + x_{2}^{2} + y_{2}^{2} + z_{2}^{2}$$"
      ],
      "text/plain": [
       "  2                                      2        2                  \n",
       "c₂                     2            k₂⋅x₂    k₂⋅y₂      2     2     2\n",
       "──── - c₂⋅d + c₂⋅z₂ + d  - 2⋅d⋅z₂ - ────── - ────── + x₂  + y₂  + z₂ \n",
       "2⋅k₂                                  2        2                     "
      ]
     },
     "metadata": {},
     "output_type": "display_data"
    },
    {
     "data": {
      "image/png": "[encoded data removed]",
      "text/latex": [
       "$$\\frac{c_{2}}{2} - d + z_{2} + \\left\\lvert{\\sqrt{\\frac{c_{2}^{2} \\left(k_{2} - 2\\right)}{4 k_{2}} + \\left(\\frac{k_{2}}{2} - 1\\right) \\left(x_{2}^{2} + y_{2}^{2}\\right)}}\\right\\rvert$$"
      ],
      "text/plain": [
       "              │     _____________________________________│\n",
       "              │    ╱   2                                 │\n",
       "c₂            │   ╱  c₂ ⋅(k₂ - 2)   ⎛k₂    ⎞ ⎛  2     2⎞ │\n",
       "── - d + z₂ + │  ╱   ──────────── + ⎜── - 1⎟⋅⎝x₂  + y₂ ⎠ │\n",
       "2             │╲╱        4⋅k₂       ⎝2     ⎠             │"
      ]
     },
     "metadata": {},
     "output_type": "display_data"
    }
   ],
   "source": [
    "x2, y2, z2, = symbols(\"x_2, y_2, z_2\", real=True)\n",
    "mirror_2_eqn = (z2 - (d-c2/2))**2 - (x2**2 + y2**2)*(k2/2 - 1) - (c2**2/4)*((k2 - 2)/k2)\n",
    "display(expand(mirror_2_eqn))\n",
    "mirror_2_eqn_bottom = z2 - d + c2/2 + abs(sqrt((x2**2 + y2**2)*(k2/2 - 1) + (c2**2/4)*((k2 - 2)/k2)))\n",
    "display(mirror_2_eqn_bottom)"
   ]
  },
  {
   "cell_type": "markdown",
   "metadata": {},
   "source": [
    "## Line passing through points $P_w$ and $F_2$ "
   ]
  },
  {
   "cell_type": "markdown",
   "metadata": {},
   "source": [
    "### Line equations:"
   ]
  },
  {
   "cell_type": "code",
   "execution_count": 303,
   "metadata": {
    "collapsed": false
   },
   "outputs": [
    {
     "data": {
      "image/png": "[encoded data removed]",
      "text/latex": [
       "$$- s_{2} x_{w} + x_{w}$$"
      ],
      "text/plain": [
       "-s₂⋅x_w + x_w"
      ]
     },
     "metadata": {},
     "output_type": "display_data"
    },
    {
     "data": {
      "image/png": "[encoded data removed]",
      "text/latex": [
       "$$- s_{2} y_{w} + y_{w}$$"
      ],
      "text/plain": [
       "-s₂⋅y_w + y_w"
      ]
     },
     "metadata": {},
     "output_type": "display_data"
    },
    {
     "data": {
      "image/png": "[encoded data removed]",
      "text/latex": [
       "$$s_{2} \\left(- c_{2} + d - z_{w}\\right) + z_{w}$$"
      ],
      "text/plain": [
       "s₂⋅(-c₂ + d - z_w) + z_w"
      ]
     },
     "metadata": {},
     "output_type": "display_data"
    }
   ],
   "source": [
    "lambda2, s2 = symbols(\"lambda_2, s_2\", real=True)\n",
    "pos_F2 = (0, 0, d - c2)\n",
    "\n",
    "x2_on_line = xw + s2 * (pos_F2[0]-xw)\n",
    "display(x2_on_line)\n",
    "\n",
    "y2_on_line = yw + s2 * (pos_F2[1]-yw)\n",
    "display(y2_on_line)\n",
    "\n",
    "z2_on_line = zw + s2 * (pos_F2[2] - zw) \n",
    "display(z2_on_line)"
   ]
  },
  {
   "cell_type": "markdown",
   "metadata": {},
   "source": [
    "Let $\\lambda_2 = 1 - s_2$, so that:"
   ]
  },
  {
   "cell_type": "code",
   "execution_count": 304,
   "metadata": {
    "collapsed": false
   },
   "outputs": [
    {
     "data": {
      "image/png": "[encoded data removed]",
      "text/latex": [
       "$$\\lambda_{2} x_{w}$$"
      ],
      "text/plain": [
       "λ₂⋅x_w"
      ]
     },
     "metadata": {},
     "output_type": "display_data"
    },
    {
     "data": {
      "image/png": "[encoded data removed]",
      "text/latex": [
       "$$\\lambda_{2} y_{w}$$"
      ],
      "text/plain": [
       "λ₂⋅y_w"
      ]
     },
     "metadata": {},
     "output_type": "display_data"
    },
    {
     "data": {
      "image/png": "[encoded data removed]",
      "text/latex": [
       "$$z_{w} + \\left(\\lambda_{2} - 1\\right) \\left(c_{2} - d + z_{w}\\right)$$"
      ],
      "text/plain": [
       "z_w + (λ₂ - 1)⋅(c₂ - d + z_w)"
      ]
     },
     "metadata": {},
     "output_type": "display_data"
    },
    {
     "data": {
      "image/png": "[encoded data removed]",
      "text/latex": [
       "$$c_{2} \\lambda_{2} - c_{2} - d \\lambda_{2} + d + \\lambda_{2} z_{w}$$"
      ],
      "text/plain": [
       "c₂⋅λ₂ - c₂ - d⋅λ₂ + d + λ₂⋅z_w"
      ]
     },
     "metadata": {},
     "output_type": "display_data"
    },
    {
     "data": {
      "image/png": "[encoded data removed]",
      "text/latex": [
       "$$\\lambda_{2} z_{w} + \\left(- c_{2} + d\\right) \\left(- \\lambda_{2} + 1\\right)$$"
      ],
      "text/plain": [
       "λ₂⋅z_w + (-c₂ + d)⋅(-λ₂ + 1)"
      ]
     },
     "metadata": {},
     "output_type": "display_data"
    }
   ],
   "source": [
    "s2_eqn = 1 - lambda2\n",
    "\n",
    "xr2_on_line = simplify(x2_on_line.subs({s2: s2_eqn}))\n",
    "display(xr2_on_line)\n",
    "\n",
    "yr2_on_line = simplify(y2_on_line.subs({s2: s2_eqn}))\n",
    "display(yr2_on_line)\n",
    "\n",
    "zr2_on_line = simplify(z2_on_line.subs({s2: s2_eqn}))\n",
    "display(zr2_on_line)\n",
    "display(expand(zr2_on_line))\n",
    "display(zw*lambda2 + (d-c2)*(1-lambda2))"
   ]
  },
  {
   "cell_type": "code",
   "execution_count": 305,
   "metadata": {
    "collapsed": false
   },
   "outputs": [
    {
     "data": {
      "image/png": "[encoded data removed]",
      "text/latex": [
       "$$\\frac{c_{2}}{2} - d + z_{w} + \\left(\\lambda_{2} - 1\\right) \\left(c_{2} - d + z_{w}\\right) + \\left\\lvert{\\sqrt{\\frac{c_{2}^{2} \\left(k_{2} - 2\\right)}{4 k_{2}} + \\left(\\frac{k_{2}}{2} - 1\\right) \\left(\\lambda_{2}^{2} x_{w}^{2} + \\lambda_{2}^{2} y_{w}^{2}\\right)}}\\right\\rvert$$"
      ],
      "text/plain": [
       "                                         │     _______________________________\n",
       "                                         │    ╱   2                           \n",
       "c₂                                       │   ╱  c₂ ⋅(k₂ - 2)   ⎛k₂    ⎞ ⎛  2  \n",
       "── - d + z_w + (λ₂ - 1)⋅(c₂ - d + z_w) + │  ╱   ──────────── + ⎜── - 1⎟⋅⎝λ₂ ⋅x\n",
       "2                                        │╲╱        4⋅k₂       ⎝2     ⎠       \n",
       "\n",
       "________________│\n",
       "                │\n",
       "  2     2    2⎞ │\n",
       "_w  + λ₂ ⋅y_w ⎠ │\n",
       "                │"
      ]
     },
     "metadata": {},
     "output_type": "display_data"
    }
   ],
   "source": [
    "mirror_2_intersection = mirror_2_eqn_bottom.subs({x2: xr2_on_line, y2: yr2_on_line, z2:zr2_on_line})\n",
    "display(mirror_2_intersection)"
   ]
  },
  {
   "cell_type": "markdown",
   "metadata": {},
   "source": [
    "## Solving for intersection point $P_2$ "
   ]
  },
  {
   "cell_type": "code",
   "execution_count": 306,
   "metadata": {
    "collapsed": false
   },
   "outputs": [
    {
     "data": {
      "image/png": "[encoded data removed]",
      "text/latex": [
       "$$\\begin{pmatrix}\\frac{c_{2} k_{2} \\left(c_{2} - d + z_{w}\\right) - \\sqrt{k_{2} \\left(k_{2} - 2\\right) \\left(c_{2}^{2} - 2 c_{2} d + 2 c_{2} z_{w} + d^{2} - 2 d z_{w} + x_{w}^{2} + y_{w}^{2} + z_{w}^{2}\\right)} \\left\\lvert{c_{2}}\\right\\rvert}{k_{2} \\left(2 c_{2}^{2} - 4 c_{2} d + 4 c_{2} z_{w} + 2 d^{2} - 4 d z_{w} - k_{2} x_{w}^{2} - k_{2} y_{w}^{2} + 2 x_{w}^{2} + 2 y_{w}^{2} + 2 z_{w}^{2}\\right)}\\end{pmatrix}$$"
      ],
      "text/plain": [
       "⎛                          ___________________________________________________\n",
       "⎜                         ╱             ⎛  2                        2         \n",
       "⎜c₂⋅k₂⋅(c₂ - d + z_w) - ╲╱  k₂⋅(k₂ - 2)⋅⎝c₂  - 2⋅c₂⋅d + 2⋅c₂⋅z_w + d  - 2⋅d⋅z_\n",
       "⎜─────────────────────────────────────────────────────────────────────────────\n",
       "⎜         ⎛    2                          2                   2         2     \n",
       "⎝      k₂⋅⎝2⋅c₂  - 4⋅c₂⋅d + 4⋅c₂⋅z_w + 2⋅d  - 4⋅d⋅z_w - k₂⋅x_w  - k₂⋅y_w  + 2⋅\n",
       "\n",
       "________________________      ⎞\n",
       "       2      2      2⎞       ⎟\n",
       "w + x_w  + y_w  + z_w ⎠ ⋅│c₂│ ⎟\n",
       "─────────────────────────────,⎟\n",
       "   2        2        2⎞       ⎟\n",
       "x_w  + 2⋅y_w  + 2⋅z_w ⎠       ⎠"
      ]
     },
     "metadata": {},
     "output_type": "display_data"
    },
    {
     "data": {
      "image/png": "[encoded data removed]",
      "text/latex": [
       "$$\\begin{pmatrix}\\frac{c_{2} k_{2} \\left(c_{2} - d + z_{w}\\right) + \\sqrt{k_{2} \\left(k_{2} - 2\\right) \\left(c_{2}^{2} - 2 c_{2} d + 2 c_{2} z_{w} + d^{2} - 2 d z_{w} + x_{w}^{2} + y_{w}^{2} + z_{w}^{2}\\right)} \\left\\lvert{c_{2}}\\right\\rvert}{k_{2} \\left(2 c_{2}^{2} - 4 c_{2} d + 4 c_{2} z_{w} + 2 d^{2} - 4 d z_{w} - k_{2} x_{w}^{2} - k_{2} y_{w}^{2} + 2 x_{w}^{2} + 2 y_{w}^{2} + 2 z_{w}^{2}\\right)}\\end{pmatrix}$$"
      ],
      "text/plain": [
       "⎛                          ___________________________________________________\n",
       "⎜                         ╱             ⎛  2                        2         \n",
       "⎜c₂⋅k₂⋅(c₂ - d + z_w) + ╲╱  k₂⋅(k₂ - 2)⋅⎝c₂  - 2⋅c₂⋅d + 2⋅c₂⋅z_w + d  - 2⋅d⋅z_\n",
       "⎜─────────────────────────────────────────────────────────────────────────────\n",
       "⎜         ⎛    2                          2                   2         2     \n",
       "⎝      k₂⋅⎝2⋅c₂  - 4⋅c₂⋅d + 4⋅c₂⋅z_w + 2⋅d  - 4⋅d⋅z_w - k₂⋅x_w  - k₂⋅y_w  + 2⋅\n",
       "\n",
       "________________________      ⎞\n",
       "       2      2      2⎞       ⎟\n",
       "w + x_w  + y_w  + z_w ⎠ ⋅│c₂│ ⎟\n",
       "─────────────────────────────,⎟\n",
       "   2        2        2⎞       ⎟\n",
       "x_w  + 2⋅y_w  + 2⋅z_w ⎠       ⎠"
      ]
     },
     "metadata": {},
     "output_type": "display_data"
    },
    {
     "data": {
      "image/png": "[encoded data removed]",
      "text/latex": [
       "$$\\begin{pmatrix}\\frac{c_{1} k_{1} \\left(c_{1} - z_{w}\\right) + \\sqrt{k_{1} \\left(k_{1} - 2\\right) \\left(c_{1}^{2} - 2 c_{1} z_{w} + x_{w}^{2} + y_{w}^{2} + z_{w}^{2}\\right)} \\left\\lvert{c_{1}}\\right\\rvert}{k_{1} \\left(2 c_{1}^{2} - 4 c_{1} z_{w} - k_{1} x_{w}^{2} - k_{1} y_{w}^{2} + 2 x_{w}^{2} + 2 y_{w}^{2} + 2 z_{w}^{2}\\right)}\\end{pmatrix}$$"
      ],
      "text/plain": [
       "⎛                      ___________________________________________________    \n",
       "⎜                     ╱             ⎛  2                 2      2      2⎞     \n",
       "⎜c₁⋅k₁⋅(c₁ - z_w) + ╲╱  k₁⋅(k₁ - 2)⋅⎝c₁  - 2⋅c₁⋅z_w + x_w  + y_w  + z_w ⎠ ⋅│c₁\n",
       "⎜─────────────────────────────────────────────────────────────────────────────\n",
       "⎜        ⎛    2                    2         2        2        2        2⎞    \n",
       "⎝     k₁⋅⎝2⋅c₁  - 4⋅c₁⋅z_w - k₁⋅x_w  - k₁⋅y_w  + 2⋅x_w  + 2⋅y_w  + 2⋅z_w ⎠    \n",
       "\n",
       "  ⎞\n",
       "  ⎟\n",
       "│ ⎟\n",
       "─,⎟\n",
       "  ⎟\n",
       "  ⎠"
      ]
     },
     "metadata": {},
     "output_type": "display_data"
    }
   ],
   "source": [
    "lambda2_sln = solve([mirror_2_intersection], lambda2)\n",
    "lambda2_sln_minus = simplify(lambda2_sln[0])\n",
    "display(lambda2_sln_minus)\n",
    "lambda2_sln_plus = simplify(lambda2_sln[1])\n",
    "display(lambda2_sln_plus)\n",
    "display(lambda1_sln_plus)"
   ]
  },
  {
   "cell_type": "code",
   "execution_count": 307,
   "metadata": {
    "collapsed": false
   },
   "outputs": [],
   "source": [
    "lambda2_func_minus = lambdify([c2, k2, xw, yw, zw, d], lambda2_sln_minus, modules=['numpy'])\n",
    "lambda2_func_plus = lambdify([c2, k2, xw, yw, zw, d], lambda2_sln_plus, modules=['numpy'])"
   ]
  },
  {
   "cell_type": "markdown",
   "metadata": {},
   "source": [
    "$\\lambda_2$, can be simplified to be\n",
    "\n",
    "\\begin{align}\n",
    "    \\lambda_2=\\frac{c_2}{L_{v_2} \\sqrt{k_2\\cdot(k_2 - 2)} \n",
    "    - k_2 \\left(d-c_2-z_w \\right)}\n",
    "\\end{align}\n",
    "\n",
    "where $L_{v_2} = ||{\\vec{f_2} - \\vec{p_w}}|| =|\\sqrt{x_w^2+y_w^2+(d-c_2-z_w)^2} |$, which is the distance between $P_w$\n",
    "and mirror 2's focus point $F_2$.\n"
   ]
  },
  {
   "cell_type": "code",
   "execution_count": 308,
   "metadata": {
    "collapsed": false
   },
   "outputs": [
    {
     "data": {
      "image/png": "[encoded data removed]",
      "text/latex": [
       "$$- c_{2} \\lambda_{2} + c_{2} + d \\lambda_{2} - \\lambda_{2} z_{w}$$"
      ],
      "text/plain": [
       "-c₂⋅λ₂ + c₂ + d⋅λ₂ - λ₂⋅z_w"
      ]
     },
     "metadata": {},
     "output_type": "display_data"
    },
    {
     "data": {
      "image/png": "[encoded data removed]",
      "text/latex": [
       "$$- c_{2} \\lambda_{2} + c_{2} + d \\lambda_{2} - \\lambda_{2} z_{w}$$"
      ],
      "text/plain": [
       "-c₂⋅λ₂ + c₂ + d⋅λ₂ - λ₂⋅z_w"
      ]
     },
     "metadata": {},
     "output_type": "display_data"
    }
   ],
   "source": [
    "display(expand(d - lambda2*zw - (d - c2)*(1 - lambda2)))\n",
    "display(expand(c2 + lambda2*(d - c2 - zw)))"
   ]
  },
  {
   "cell_type": "markdown",
   "metadata": {},
   "source": [
    "## Fielf of View Angles"
   ]
  },
  {
   "cell_type": "markdown",
   "metadata": {},
   "source": [
    "From `Geometry Expressions`, we obtain:\n",
    "\n",
    "\n",
    "\\begin{align}\n",
    "\\theta_{1,max} = -arctan\\left (\\dfrac{c_{1}\\cdot \\sqrt{k_{1}}-\\sqrt{-2+k_{1}}\\cdot \\sqrt{c_{1}^{2}+2\\cdot k_{1}\\cdot r_{sys}^{2}}}{2\\cdot \\sqrt{k_{1}}\\cdot r_{sys}}\\right )\n",
    "\\end{align}\n",
    "\n",
    "or by `Mathematica`:\n",
    "\n",
    "\\begin{align}\n",
    "\\frac{\\arctan \\left(\\sqrt{\\frac{(k_1-2) \\left(c_1^2+2 k_1 r^2_{sys} \\right)}{k_1}}-c_1\\right)}{2 r_{sys}}\n",
    "\\end{align}"
   ]
  },
  {
   "cell_type": "code",
   "execution_count": 309,
   "metadata": {
    "collapsed": false
   },
   "outputs": [
    {
     "data": {
      "image/png": "[encoded data removed]",
      "text/latex": [
       "$$- \\operatorname{atan}{\\left (\\frac{c_{1}}{2 r_{{sys}}} - \\frac{\\sqrt{k_{1} - 2}}{2 \\sqrt{k_{1}} r_{{sys}}} \\sqrt{c_{1}^{2} + 2 k_{1} r_{{sys}}^{2}} \\right )}$$"
      ],
      "text/plain": [
       "     ⎛               _____________________           ⎞\n",
       "     ⎜              ╱   2               2    ________⎟\n",
       "     ⎜    c₁      ╲╱  c₁  + 2⋅k₁⋅r_{sys}  ⋅╲╱ k₁ - 2 ⎟\n",
       "-    ⎜───────── - ───────────────────────────────────⎟\n",
       "     ⎜2⋅r_{sys}                 ____                 ⎟\n",
       " atan⎝                      2⋅╲╱ k₁ ⋅r_{sys}         ⎠"
      ]
     },
     "metadata": {},
     "output_type": "display_data"
    }
   ],
   "source": [
    "theta_1_max_eqn = -atan((c1* sqrt(k1)-sqrt(-2+k1)* sqrt(c1**2 + 2* k1 * r_sys**2))/(2*sqrt(k1) * r_sys))\n",
    "display(ratsimp(theta_1_max_eqn))"
   ]
  },
  {
   "cell_type": "markdown",
   "metadata": {},
   "source": [
    "From `Geometry Expressions`, we obtain:\n",
    "\n",
    "$$\\theta_{1,min} = \\arctan\\left (\\dfrac{\\dfrac{-d}{2}+c_{1}}{r_{ref}}\\right )$$"
   ]
  },
  {
   "cell_type": "code",
   "execution_count": 310,
   "metadata": {
    "collapsed": false
   },
   "outputs": [
    {
     "data": {
      "image/png": "[encoded data removed]",
      "text/latex": [
       "$$\\operatorname{atan}{\\left (\\frac{c_{1}}{r_{{ref}}} - \\frac{d}{2 r_{{ref}}} \\right )}$$"
      ],
      "text/plain": [
       "    ⎛   c₁         d    ⎞\n",
       "atan⎜─────── - ─────────⎟\n",
       "    ⎝r_{ref}   2⋅r_{ref}⎠"
      ]
     },
     "metadata": {},
     "output_type": "display_data"
    }
   ],
   "source": [
    "theta_1_min_eqn = atan((-d/2+c1)/(r_ref))\n",
    "display(cancel(theta_1_min_eqn))"
   ]
  },
  {
   "cell_type": "markdown",
   "metadata": {},
   "source": [
    "From `Geometry Expressions`, we obtain:\n",
    "\n",
    "$\\theta_{2,min} = arctan\\left (\\dfrac{\\dfrac{-c_{2}}{2}+\\sqrt{\\dfrac{c_{2}^{2}\\cdot \\left (-2+k_{2}\\right )}{4\\cdot k_{2}}+r_{sys}^{2}\\cdot \\left (-1+\\dfrac{k_{2}}{2}\\right )}}{r_{sys}}\\right )$"
   ]
  },
  {
   "cell_type": "code",
   "execution_count": 311,
   "metadata": {
    "collapsed": false
   },
   "outputs": [
    {
     "data": {
      "image/png": "[encoded data removed]",
      "text/latex": [
       "$$\\operatorname{atan}{\\left (\\frac{1}{r_{{sys}}} \\left(- \\frac{c_{2}}{2} + \\sqrt{\\frac{c_{2}^{2} \\left(k_{2} - 2\\right)}{4 k_{2}} + r_{{sys}}^{2} \\left(\\frac{k_{2}}{2} - 1\\right)}\\right) \\right )}$$"
      ],
      "text/plain": [
       "    ⎛            __________________________________⎞\n",
       "    ⎜           ╱   2                              ⎟\n",
       "    ⎜  c₂      ╱  c₂ ⋅(k₂ - 2)          2 ⎛k₂    ⎞ ⎟\n",
       "    ⎜- ── +   ╱   ──────────── + r_{sys} ⋅⎜── - 1⎟ ⎟\n",
       "    ⎜  2    ╲╱        4⋅k₂                ⎝2     ⎠ ⎟\n",
       "    ⎜──────────────────────────────────────────────⎟\n",
       "    ⎝                   r_{sys}                    ⎠\n",
       "atan                                                "
      ]
     },
     "metadata": {},
     "output_type": "display_data"
    },
    {
     "data": {
      "image/png": "[encoded data removed]",
      "text/latex": [
       "$$- \\operatorname{atan}{\\left (\\frac{c_{2}}{2 r_{{sys}}} - \\frac{1}{2 r_{{sys}}} \\sqrt{c_{2}^{2} - \\frac{2 c_{2}^{2}}{k_{2}} + 2 k_{2} r_{{sys}}^{2} - 4 r_{{sys}}^{2}} \\right )}$$"
      ],
      "text/plain": [
       "     ⎛                 __________________________________________⎞\n",
       "     ⎜                ╱           2                              ⎟\n",
       "     ⎜               ╱    2   2⋅c₂                2            2 ⎟\n",
       "     ⎜              ╱   c₂  - ───── + 2⋅k₂⋅r_{sys}  - 4⋅r_{sys}  ⎟\n",
       "     ⎜    c₂      ╲╱            k₂                               ⎟\n",
       "-    ⎜───────── - ───────────────────────────────────────────────⎟\n",
       "     ⎝2⋅r_{sys}                      2⋅r_{sys}                   ⎠\n",
       " atan                                                             "
      ]
     },
     "metadata": {},
     "output_type": "display_data"
    }
   ],
   "source": [
    "theta_2_min_eqn = atan((-c2/2 + sqrt((c2**2 *(-2+k2))/(4*k2)+r_sys**2 * (-1+k2/2)))/r_sys)\n",
    "display(trigsimp(theta_2_min_eqn))\n",
    "display(cancel(theta_2_min_eqn))\n"
   ]
  },
  {
   "cell_type": "markdown",
   "metadata": {},
   "source": [
    "# Back Projections"
   ]
  },
  {
   "cell_type": "markdown",
   "metadata": {},
   "source": [
    "## BP Mirror 1:"
   ]
  },
  {
   "cell_type": "code",
   "execution_count": 314,
   "metadata": {
    "collapsed": false
   },
   "outputs": [
    {
     "data": {
      "image/png": "[encoded data removed]",
      "text/latex": [
       "$$- \\frac{c_{1}}{2} + t_{1} - \\left\\lvert{\\sqrt{\\frac{c_{1}^{2} \\left(k_{1} - 2\\right)}{4 k_{1}} + \\left(\\frac{k_{1}}{2} - 1\\right) \\left(t_{1}^{2} x_{q1}^{2} + t_{1}^{2} y_{q1}^{2}\\right)}}\\right\\rvert$$"
      ],
      "text/plain": [
       "            │     _________________________________________________│\n",
       "            │    ╱   2                                             │\n",
       "  c₁        │   ╱  c₁ ⋅(k₁ - 2)   ⎛k₁    ⎞ ⎛  2     2     2     2⎞ │\n",
       "- ── + t₁ - │  ╱   ──────────── + ⎜── - 1⎟⋅⎝t₁ ⋅x_q1  + t₁ ⋅y_q1 ⎠ │\n",
       "  2         │╲╱        4⋅k₁       ⎝2     ⎠                         │"
      ]
     },
     "metadata": {},
     "output_type": "display_data"
    },
    {
     "data": {
      "image/png": "[encoded data removed]",
      "text/latex": [
       "$$\\begin{pmatrix}\\frac{c_{1} k_{1} - \\sqrt{k_{1} \\left(k_{1} - 2\\right)} \\sqrt{x_{q1}^{2} + y_{q1}^{2} + 1} \\left\\lvert{c_{1}}\\right\\rvert}{k_{1} \\left(- k_{1} x_{q1}^{2} - k_{1} y_{q1}^{2} + 2 x_{q1}^{2} + 2 y_{q1}^{2} + 2\\right)}\\end{pmatrix}$$"
      ],
      "text/plain": [
       "⎛                           ___________________      ⎞\n",
       "⎜          _____________   ╱     2       2           ⎟\n",
       "⎜c₁⋅k₁ - ╲╱ k₁⋅(k₁ - 2) ⋅╲╱  x_q1  + y_q1  + 1 ⋅│c₁│ ⎟\n",
       "⎜───────────────────────────────────────────────────,⎟\n",
       "⎜    ⎛         2          2         2         2    ⎞ ⎟\n",
       "⎝ k₁⋅⎝- k₁⋅x_q1  - k₁⋅y_q1  + 2⋅x_q1  + 2⋅y_q1  + 2⎠ ⎠"
      ]
     },
     "metadata": {},
     "output_type": "display_data"
    },
    {
     "data": {
      "image/png": "[encoded data removed]",
      "text/latex": [
       "$$\\begin{pmatrix}\\frac{c_{1} k_{1} + \\sqrt{k_{1} \\left(k_{1} - 2\\right)} \\sqrt{x_{q1}^{2} + y_{q1}^{2} + 1} \\left\\lvert{c_{1}}\\right\\rvert}{k_{1} \\left(- k_{1} x_{q1}^{2} - k_{1} y_{q1}^{2} + 2 x_{q1}^{2} + 2 y_{q1}^{2} + 2\\right)}\\end{pmatrix}$$"
      ],
      "text/plain": [
       "⎛                           ___________________      ⎞\n",
       "⎜          _____________   ╱     2       2           ⎟\n",
       "⎜c₁⋅k₁ + ╲╱ k₁⋅(k₁ - 2) ⋅╲╱  x_q1  + y_q1  + 1 ⋅│c₁│ ⎟\n",
       "⎜───────────────────────────────────────────────────,⎟\n",
       "⎜    ⎛         2          2         2         2    ⎞ ⎟\n",
       "⎝ k₁⋅⎝- k₁⋅x_q1  - k₁⋅y_q1  + 2⋅x_q1  + 2⋅y_q1  + 2⎠ ⎠"
      ]
     },
     "metadata": {},
     "output_type": "display_data"
    }
   ],
   "source": [
    "q1, xq1, yq1, zq1, t1, theta1, phi1 = symbols(\"q_1, x_q1, y_q1, z_q1, t_1, theta_1, phi_1\", real=True)\n",
    "x1_bp_line_eqn = t1*xq1\n",
    "y1_bp_line_eqn = t1*yq1\n",
    "z1_bp_line_eqn = t1\n",
    "mirror1_bp_intersection = mirror_1_eqn_top.subs({x1: x1_bp_line_eqn, y1: y1_bp_line_eqn, z1:z1_bp_line_eqn})\n",
    "display(mirror1_bp_intersection)\n",
    "t1_sln = solve([mirror1_bp_intersection], t1)\n",
    "t1_sln_minus = simplify(t1_sln[0])\n",
    "display(t1_sln_minus)\n",
    "t1_sln_plus = together(t1_sln[1])\n",
    "display(t1_sln_plus)"
   ]
  },
  {
   "cell_type": "markdown",
   "metadata": {},
   "source": [
    "Simplifying the `+`  solution of $t_1$, we get:\n",
    "\\begin{align}\n",
    "    t_1=\\frac{c_1}{k_1-||{q_1}||\\sqrt{k_1\\cdot(k_1 - 2)}}\n",
    "\\end{align}"
   ]
  },
  {
   "cell_type": "markdown",
   "metadata": {},
   "source": [
    "## BP Mirror 2:"
   ]
  },
  {
   "cell_type": "code",
   "execution_count": 318,
   "metadata": {
    "collapsed": false
   },
   "outputs": [
    {
     "data": {
      "image/png": "[encoded data removed]",
      "text/latex": [
       "$$\\frac{c_{2}}{2} - t_{2} + \\left\\lvert{\\sqrt{\\frac{c_{2}^{2} \\left(k_{2} - 2\\right)}{4 k_{2}} + \\left(\\frac{k_{2}}{2} - 1\\right) \\left(t_{2}^{2} x_{q2}^{2} + t_{2}^{2} y_{q2}^{2}\\right)}}\\right\\rvert$$"
      ],
      "text/plain": [
       "          │     _________________________________________________│\n",
       "          │    ╱   2                                             │\n",
       "c₂        │   ╱  c₂ ⋅(k₂ - 2)   ⎛k₂    ⎞ ⎛  2     2     2     2⎞ │\n",
       "── - t₂ + │  ╱   ──────────── + ⎜── - 1⎟⋅⎝t₂ ⋅x_q2  + t₂ ⋅y_q2 ⎠ │\n",
       "2         │╲╱        4⋅k₂       ⎝2     ⎠                         │"
      ]
     },
     "metadata": {},
     "output_type": "display_data"
    },
    {
     "data": {
      "image/png": "[encoded data removed]",
      "text/latex": [
       "$$\\begin{pmatrix}\\frac{c_{2} k_{2} - \\sqrt{k_{2} \\left(k_{2} - 2\\right)} \\sqrt{x_{q2}^{2} + y_{q2}^{2} + 1} \\left\\lvert{c_{2}}\\right\\rvert}{k_{2} \\left(- k_{2} x_{q2}^{2} - k_{2} y_{q2}^{2} + 2 x_{q2}^{2} + 2 y_{q2}^{2} + 2\\right)}\\end{pmatrix}$$"
      ],
      "text/plain": [
       "⎛                           ___________________      ⎞\n",
       "⎜          _____________   ╱     2       2           ⎟\n",
       "⎜c₂⋅k₂ - ╲╱ k₂⋅(k₂ - 2) ⋅╲╱  x_q2  + y_q2  + 1 ⋅│c₂│ ⎟\n",
       "⎜───────────────────────────────────────────────────,⎟\n",
       "⎜    ⎛         2          2         2         2    ⎞ ⎟\n",
       "⎝ k₂⋅⎝- k₂⋅x_q2  - k₂⋅y_q2  + 2⋅x_q2  + 2⋅y_q2  + 2⎠ ⎠"
      ]
     },
     "metadata": {},
     "output_type": "display_data"
    },
    {
     "data": {
      "image/png": "[encoded data removed]",
      "text/latex": [
       "$$\\begin{pmatrix}\\frac{c_{2} k_{2} + \\sqrt{k_{2} \\left(k_{2} - 2\\right)} \\sqrt{x_{q2}^{2} + y_{q2}^{2} + 1} \\left\\lvert{c_{2}}\\right\\rvert}{k_{2} \\left(- k_{2} x_{q2}^{2} - k_{2} y_{q2}^{2} + 2 x_{q2}^{2} + 2 y_{q2}^{2} + 2\\right)}\\end{pmatrix}$$"
      ],
      "text/plain": [
       "⎛                           ___________________      ⎞\n",
       "⎜          _____________   ╱     2       2           ⎟\n",
       "⎜c₂⋅k₂ + ╲╱ k₂⋅(k₂ - 2) ⋅╲╱  x_q2  + y_q2  + 1 ⋅│c₂│ ⎟\n",
       "⎜───────────────────────────────────────────────────,⎟\n",
       "⎜    ⎛         2          2         2         2    ⎞ ⎟\n",
       "⎝ k₂⋅⎝- k₂⋅x_q2  - k₂⋅y_q2  + 2⋅x_q2  + 2⋅y_q2  + 2⎠ ⎠"
      ]
     },
     "metadata": {},
     "output_type": "display_data"
    }
   ],
   "source": [
    "q2, xq2, yq2, zq2, t2, theta2, phi2 = symbols(\"q_2, x_q2, y_q2, z_q2, t_2, theta_2, phi_2\", real=True)\n",
    "x2_bp_line_eqn = t2*xq2\n",
    "y2_bp_line_eqn = t2*yq2\n",
    "z2_bp_line_eqn = d-t2\n",
    "mirror2_bp_intersection = mirror_2_eqn_bottom.subs({x2: x2_bp_line_eqn, y2: y2_bp_line_eqn, z2:z2_bp_line_eqn})\n",
    "display(mirror2_bp_intersection)\n",
    "t2_sln = solve([mirror2_bp_intersection], t2)\n",
    "t2_sln_minus = simplify(t2_sln[0])\n",
    "display(t2_sln_minus)\n",
    "t2_sln_plus = together(t2_sln[1])\n",
    "display(t2_sln_plus)"
   ]
  },
  {
   "cell_type": "markdown",
   "metadata": {},
   "source": [
    "## Test and Plot Forward Projections"
   ]
  },
  {
   "cell_type": "code",
   "execution_count": 290,
   "metadata": {
    "collapsed": false
   },
   "outputs": [
    {
     "name": "stdout",
     "output_type": "stream",
     "text": [
      "MIRROR 1:\n",
      "PROJECTING World Point (4.000000,6.000000,15.000000)\n",
      "Len of lambda_answers_minus 1\n",
      "Lambda (with -) 0.608135786666 Pw2F1 length =  9.07150509147 Ref. Pt. 2.43254314667 3.64881472 13.9576411925\n",
      "Len of lambda_answers_plus 1\n",
      "Lambda (with +) -0.243032410191 Pw2F1 length =  91.27945659 Ref. Pt. -0.972129640764 -1.45819446115 11.6935337889\n",
      "Got both answers, choosing: Minus\n",
      "World Point (4.000000,6.000000,15.000000) reflects at: (2.432543,3.648815,13.957641)\n",
      "Mirror 1: Guo's lambda = 0.608136)\n",
      "World Point (4.000000,6.000000,15.000000) reflects at: (2.432543,3.648815,13.957641)\n",
      "MIRROR 2:\n",
      "PROJECTING World Point (4.000000,6.000000,15.000000)\n",
      "Len of lambda_answers_minus 1\n",
      "Lambda (with -) 0.079313536836 Pw2F1 length =  255.957183733 Ref. Pt. 0.317254147344 0.475881221016 0.443947017376\n",
      "Len of lambda_answers_plus 1\n",
      "Lambda (with +) 7.76790329702 Pw2F1 length =  13830.9527232 Ref. Pt. 31.0716131881 46.6074197821 122.000551126\n",
      "Got both answers, choosing: Minus\n",
      "World Point (4.000000,6.000000,15.000000) reflects at: (0.317254,0.475881,0.443947)\n",
      "Mirror 2: Guo's lambda = 0.079314)\n",
      "World Point (4.000000,6.000000,15.000000) reflects at: (0.317254,0.475881,0.443947)\n",
      "MIRROR 1:\n",
      "PROJECTING World Point (-4.000000,6.000000,15.000000)\n",
      "Len of lambda_answers_minus 1\n",
      "Lambda (with -) 0.608135786666 Pw2F1 length =  9.07150509147 Ref. Pt. -2.43254314667 3.64881472 13.9576411925\n",
      "Len of lambda_answers_plus 1\n",
      "Lambda (with +) -0.243032410191 Pw2F1 length =  91.27945659 Ref. Pt. 0.972129640764 -1.45819446115 11.6935337889\n",
      "Got both answers, choosing: Minus\n",
      "World Point (-4.000000,6.000000,15.000000) reflects at: (-2.432543,3.648815,13.957641)\n",
      "Mirror 1: Guo's lambda = 0.608136)\n",
      "World Point (-4.000000,6.000000,15.000000) reflects at: (-2.432543,3.648815,13.957641)\n",
      "MIRROR 2:\n",
      "PROJECTING World Point (-4.000000,6.000000,15.000000)\n",
      "Len of lambda_answers_minus 1\n",
      "Lambda (with -) 0.079313536836 Pw2F1 length =  255.957183733 Ref. Pt. -0.317254147344 0.475881221016 0.443947017376\n",
      "Len of lambda_answers_plus 1\n",
      "Lambda (with +) 7.76790329702 Pw2F1 length =  13830.9527232 Ref. Pt. -31.0716131881 46.6074197821 122.000551126\n",
      "Got both answers, choosing: Minus\n",
      "World Point (-4.000000,6.000000,15.000000) reflects at: (-0.317254,0.475881,0.443947)\n",
      "Mirror 2: Guo's lambda = 0.079314)\n",
      "World Point (-4.000000,6.000000,15.000000) reflects at: (-0.317254,0.475881,0.443947)\n",
      "MIRROR 1:\n",
      "PROJECTING World Point (4.000000,-6.000000,15.000000)\n",
      "Len of lambda_answers_minus 1\n",
      "Lambda (with -) 0.608135786666 Pw2F1 length =  9.07150509147 Ref. Pt. 2.43254314667 -3.64881472 13.9576411925\n",
      "Len of lambda_answers_plus 1\n",
      "Lambda (with +) -0.243032410191 Pw2F1 length =  91.27945659 Ref. Pt. -0.972129640764 1.45819446115 11.6935337889\n",
      "Got both answers, choosing: Minus\n",
      "World Point (4.000000,-6.000000,15.000000) reflects at: (2.432543,-3.648815,13.957641)\n",
      "Mirror 1: Guo's lambda = 0.608136)\n",
      "World Point (4.000000,-6.000000,15.000000) reflects at: (2.432543,-3.648815,13.957641)\n",
      "MIRROR 2:\n",
      "PROJECTING World Point (4.000000,-6.000000,15.000000)\n",
      "Len of lambda_answers_minus 1\n",
      "Lambda (with -) 0.079313536836 Pw2F1 length =  255.957183733 Ref. Pt. 0.317254147344 -0.475881221016 0.443947017376\n",
      "Len of lambda_answers_plus 1\n",
      "Lambda (with +) 7.76790329702 Pw2F1 length =  13830.9527232 Ref. Pt. 31.0716131881 -46.6074197821 122.000551126\n",
      "Got both answers, choosing: Minus\n",
      "World Point (4.000000,-6.000000,15.000000) reflects at: (0.317254,-0.475881,0.443947)\n",
      "Mirror 2: Guo's lambda = 0.079314)\n",
      "World Point (4.000000,-6.000000,15.000000) reflects at: (0.317254,-0.475881,0.443947)\n",
      "MIRROR 1:\n",
      "PROJECTING World Point (-4.000000,-6.000000,15.000000)\n",
      "Len of lambda_answers_minus 1\n",
      "Lambda (with -) 0.608135786666 Pw2F1 length =  9.07150509147 Ref. Pt. -2.43254314667 -3.64881472 13.9576411925\n",
      "Len of lambda_answers_plus 1\n",
      "Lambda (with +) -0.243032410191 Pw2F1 length =  91.27945659 Ref. Pt. 0.972129640764 1.45819446115 11.6935337889\n",
      "Got both answers, choosing: Minus\n",
      "World Point (-4.000000,-6.000000,15.000000) reflects at: (-2.432543,-3.648815,13.957641)\n",
      "Mirror 1: Guo's lambda = 0.608136)\n",
      "World Point (-4.000000,-6.000000,15.000000) reflects at: (-2.432543,-3.648815,13.957641)\n",
      "MIRROR 2:\n",
      "PROJECTING World Point (-4.000000,-6.000000,15.000000)\n",
      "Len of lambda_answers_minus 1\n",
      "Lambda (with -) 0.079313536836 Pw2F1 length =  255.957183733 Ref. Pt. -0.317254147344 -0.475881221016 0.443947017376\n",
      "Len of lambda_answers_plus 1\n",
      "Lambda (with +) 7.76790329702 Pw2F1 length =  13830.9527232 Ref. Pt. -31.0716131881 -46.6074197821 122.000551126\n",
      "Got both answers, choosing: Minus\n",
      "World Point (-4.000000,-6.000000,15.000000) reflects at: (-0.317254,-0.475881,0.443947)\n",
      "Mirror 2: Guo's lambda = 0.079314)\n",
      "World Point (-4.000000,-6.000000,15.000000) reflects at: (-0.317254,-0.475881,0.443947)\n"
     ]
    }
   ],
   "source": [
    "from __future__ import division\n",
    "from __future__ import print_function\n",
    "\n",
    "def get_R(x,y,z):\n",
    "    return np.sqrt(x**2 + y**2 + z**2)\n",
    "\n",
    "def get_lambda(x,y,z, c, k, d, lambda_func):\n",
    "    n_args = lambda_func.func_code.co_argcount \n",
    "    if n_args == 5:\n",
    "        return lambda_func(c,k,x,y,z)\n",
    "    if n_args == 6:\n",
    "        return lambda_func(c,k,x,y,z,d)\n",
    "\n",
    "def get_reflection_point_top(xw, yw, zw, c1, lamb, d):\n",
    "    xr = lamb*xw\n",
    "    yr = lamb*yw\n",
    "    zr = zw*lamb + c1*(1-lamb)\n",
    "    dist_sq = (xw-xr)**2 + (yw-yr)**2 + (zw-zr)**2\n",
    "    return xr, yr, zr, dist_sq\n",
    "\n",
    "def get_reflection_point_bottom(xw, yw, zw, c2, lamb, d):\n",
    "    xr = lamb*xw\n",
    "    yr = lamb*yw\n",
    "    zr = zw*lamb + (d-c2)*(1-lamb)\n",
    "    dist_sq = (xw-xr)**2 + (yw-yr)**2 + (zw-zr)**2\n",
    "    return xr, yr, zr, dist_sq\n",
    "\n",
    "# NOTE:\n",
    "#     We observed that for the minus form solution works all the time for both mirrors\n",
    "def get_reflection_point(xw, yw, zw, c, k, d, ref_func, lamb_func_minus, lamb_func_plus):\n",
    "    print(\"PROJECTING World Point (%f,%f,%f)\" % (xw,yw,zw))\n",
    "\n",
    "    lambda_answers_minus = get_lambda(xw,yw,zw,c,k,d, lamb_func_minus)\n",
    "    lambda_answers_plus = get_lambda(xw,yw,zw,c,k,d, lamb_func_plus)\n",
    "    \n",
    "    has_answer = True # Initial assumption that an answer exists\n",
    "\n",
    "    if len(lambda_answers_minus) > 0:\n",
    "        print(\"Len of lambda_answers_minus\", len(lambda_answers_minus))\n",
    "        # Choose the answer that produces the shortest segment between Pw and reflection point\n",
    "        lamb_minus = lambda_answers_minus[0]\n",
    "        xr_minus, yr_minus, zr_minus, len2F1_minus = ref_func(xw, yw, zw, c, lamb_minus, d)\n",
    "        print(\"Lambda (with -)\", lamb_minus, \"Pw2F1 length = \", len2F1_minus, \"Ref. Pt.\", xr_minus, yr_minus, zr_minus)\n",
    "\n",
    "    if len(lambda_answers_plus) > 0:\n",
    "        lamb_plus = lambda_answers_plus[0]\n",
    "        print(\"Len of lambda_answers_plus\", len(lambda_answers_plus))\n",
    "        xr_plus, yr_plus, zr_plus, len2F1_plus = ref_func(xw, yw, zw, c, lamb_plus, d)\n",
    "        print(\"Lambda (with +)\", lamb_plus, \"Pw2F1 length = \", len2F1_plus, \"Ref. Pt.\", xr_plus, yr_plus, zr_plus)\n",
    "\n",
    "    if len(lambda_answers_minus) > 0 and len(lambda_answers_plus) > 0:\n",
    "        print(\"Got both answers, choosing: \", end=\"\")\n",
    "        if len2F1_plus > len2F1_minus:\n",
    "            xr, yr, zr = xr_minus, yr_minus, zr_minus\n",
    "            print(\"Minus\")\n",
    "        else:\n",
    "            xr, yr, zr = xr_plus, yr_plus, zr_plus\n",
    "            print(\"Plus\")\n",
    "    elif len(lambda_answers_minus) > 0:\n",
    "        xr, yr, zr = xr_minus, yr_minus, zr_minus\n",
    "        print(\"Answer from Minus\")\n",
    "    elif len(lambda_answers_plus) > 0:\n",
    "        xr, yr, zr = xr_plus, yr_plus, zr_plus\n",
    "        print(\"Answer from Plus\")\n",
    "    else:\n",
    "        has_answer = False\n",
    "        print(\"No answer!\")\n",
    "eqn:ray_c_p1\n",
    "    if has_answer:    \n",
    "        print(\"World Point (%f,%f,%f) reflects at: (%f,%f,%f)\" % (xw,yw,zw,xr,yr,zr))\n",
    "        return xr, yr, zr\n",
    "    else:\n",
    "        return np.nan, np.nan, np.nan\n",
    "    \n",
    "def get_lambda_bottom_guo(x,y,z, c2, k2,d):\n",
    "    return c2/(np.sqrt(k2*(k2-2))*get_R(x,y,d-c2-z)-k2*(d-c2-z))\n",
    "\n",
    "def get_lambda_top_guo(x,y,z, c1, k1):\n",
    "    return c1/(np.sqrt(k1*(k1-2))*get_R(x,y,c1-z)+k1*(c1-z))\n",
    "\n",
    "def get_reflection_point_bottom_GUO(xw, yw, zw,c2,k2,d,get_ref_func):\n",
    "    lamb = get_lambda_bottom_guo(xw,yw,zw,c2,k2,d)\n",
    "    print(\"Mirror 2: Guo's lambda = %f)\" % lamb)\n",
    "    xr, yr, zr, dist_to_focus = get_ref_func(xw, yw, zw, c2, lamb,d)\n",
    "    return xr, yr, zr\n",
    "\n",
    "def get_reflection_point_top_GUO(xw, yw, zw,c1,k1,d,get_ref_func):\n",
    "    lamb = get_lambda_top_guo(xw,yw,zw,c1,k1)\n",
    "    print(\"Mirror 1: Guo's lambda = %f)\" % lamb)\n",
    "    xr, yr, zr, dist_to_focus = get_ref_func(xw, yw, zw, c1, lamb,d)\n",
    "    return xr, yr, zr\n",
    "\n",
    "def get_z1_hyperbola(x1, y1, c1, k1):\n",
    "    z1 = c1/2.0 + np.sqrt((c1**2)/4*(k1-2)/k1 + (x1**2 + y1**2)*(k1/2.0-1.0))\n",
    "    return z1\n",
    "\n",
    "def get_z2_hyperbola(x2, y2, c2, k2, d):\n",
    "    z2 = d - c2/2.0 - np.sqrt((c2**2)/4*(k2-2)/k2 + (x2**2 + y2**2)*(k2/2.0-1.0))\n",
    "    return z2\n",
    "\n",
    "def draw(c1, c2, k1, k2, d, r_sys, r_reflex, Pw, C, F1, F2, F2p, ax=None):\n",
    "        '''\n",
    "        @return the drawn axis corresponding to the parameter ax of the figure\n",
    "        '''\n",
    "\n",
    "        is_new_figure = False\n",
    "\n",
    "        if ax == None:\n",
    "            is_new_figure = True\n",
    "            from mpl_toolkits.mplot3d import axes3d\n",
    "            import matplotlib.pyplot as plt\n",
    "            fig = plt.figure()\n",
    "            ax = fig.add_subplot(111, projection='3d')\n",
    "\n",
    "        # make simple, bare axis lines through space:\n",
    "        #ax.set_aspect(\"equal\")\n",
    "        max_axis = 2*r_sys\n",
    "        ax.set_xlim3d(-max_axis, max_axis)\n",
    "        ax.set_ylim3d(-max_axis, max_axis)\n",
    "        #ax.set_zlim3d(-max_axis, max_axis)\n",
    "        axis_range = (0, max_axis)\n",
    "        xAxisLine = (axis_range, (0, 0), (0, 0))  # 2 points make the x-axis line at the data extrema along x-axis\n",
    "        ax.plot(xAxisLine[0], xAxisLine[1], xAxisLine[2], 'r')  # make a red line for the x-axis.\n",
    "        yAxisLine = ((0, 0), axis_range, (0, 0))  # 2 points make the y-axis line at the data extrema along y-axis\n",
    "        ax.plot(yAxisLine[0], yAxisLine[1], yAxisLine[2], 'g')  # make a green line for the y-axis.\n",
    "        zAxisLine = ((0, 0), (0, 0), axis_range)  # 2 points make the z-axis line at the data extrema along z-axis\n",
    "        ax.plot(zAxisLine[0], zAxisLine[1], zAxisLine[2], 'b')  # make a blue line\n",
    "        ax.set_xlabel('X')\n",
    "        ax.set_ylabel('Y')\n",
    "        ax.set_zlabel('Z')\n",
    "\n",
    "        plot_title = \"HyperCata\" + \" Mirror\"\n",
    "        ax.set_title(plot_title, loc='center')\n",
    "        # Show name of mirror as text\n",
    "        # ax.text2D(0.05, 0.95, plot_title, transform=ax.transAxes)\n",
    "        \n",
    "        # Draw hyperboloids:\n",
    "        u = np.linspace(0, 2 * np.pi, 100)\n",
    "        v = np.linspace(0, r_sys, 100)\n",
    "        scale = 1.0\n",
    "        x = scale * np.outer(np.cos(u), v) # + x_offset\n",
    "        y = scale * np.outer(np.sin(u), v) # + y_offset\n",
    "        # Top (mirror 1)\n",
    "        z1 = scale * get_z1_hyperbola(x, y, c1, k1)\n",
    "        #ax.plot_wireframe(x, y, z, color=\"g\")\n",
    "        ax.plot_surface(x, y, z1, rstride=6, cstride=6, color='g', alpha=0.25, linewidth=0.05, shade=False)\n",
    "\n",
    "        # Bottom (mirror 2)\n",
    "        z2 = scale * get_z2_hyperbola(x, y, c2, k2, d)\n",
    "        ax.plot_surface(x, y, z2, rstride=6, cstride=6, color='g', alpha=0.25, linewidth=0.05, shade=False)\n",
    "\n",
    "        # Draw foci of model\n",
    "        ax.scatter(F1[0], F1[1], F1[2], color=\"blue\", s=20)\n",
    "        ax.text(F1[0] + 0.1, F1[1]+0.1, F1[2], \"F1\", color=\"blue\")\n",
    "        ax.scatter(C[0], C[1], C[2], color=\"blue\", s=20)\n",
    "        ax.text(C[0] + 0.1, C[1] + 0.1, C[2], \"C, F1'\", color=\"blue\")\n",
    "        ax.scatter(F2[0], F2[1], F2[2], color=\"red\", s=20)\n",
    "        ax.text(F2[0] + 0.1, F2[1]+0.1, F2[2], \"F2\", color=\"red\")\n",
    "\n",
    "        # Draw normalized projection plane        \n",
    "        # create grid of x,y values\n",
    "        plane_width = 6.\n",
    "        plane_height = 4.\n",
    "        # Recall that stop in range is non-inclusive.\n",
    "        z_n = 1.0\n",
    "        xx, yy = np.meshgrid(np.arange(-plane_width / 2, plane_width / 2 + 1, 0.5),\n",
    "                         np.arange(-plane_height / 2, plane_height / 2 + 1, 0.5))\n",
    "        # calculate corresponding z = -(a*x+b*y-d)/c\n",
    "        zz = z_n + np.zeros_like(xx)\n",
    "        ax.plot_wireframe(xx, yy, zz, color=\"yellow\")\n",
    "        ax.text(plane_width / 4, 0, z_n + 0.2, \"Proj. Norm. Plane\", color='brown', zdir='y')\n",
    "\n",
    "        # Draw test points        \n",
    "        for p in Pw:\n",
    "            (xw, yw, zw) = p\n",
    "            ax.scatter(xw, yw, zw, color=\"black\", s=20)\n",
    "            ax.text(xw + 0.1, yw+0.1, zw, \"Pw\", color=\"black\")\n",
    "\n",
    "            print(\"MIRROR 1:\")\n",
    "            xr1, yr1, zr1 = get_reflection_point(xw,yw,zw,c1,k1,d,get_reflection_point_top,lambda1_func_minus,lambda1_func_plus)\n",
    "            xr1, yr1, zr1 = get_reflection_point_top_GUO(xw, yw, zw,c1,k1,d,get_reflection_point_top)\n",
    "            print(\"World Point (%f,%f,%f) reflects at: (%f,%f,%f)\" % (xw,yw,zw,xr1,yr1,zr1))\n",
    "\n",
    "            ax.scatter(xr1, yr1, zr1, color=\"blue\", s=20)\n",
    "            ax.text(xr1 + 0.1, yr1+0.1, zr1, \"P1\", color=\"blue\")\n",
    "\n",
    "            # Plot the Pw-F1 line segment\n",
    "            line_PwF1_xs = [xw, F1[0]]\n",
    "            line_PwF1_ys = [yw, F1[1]]\n",
    "            line_PwF1_zs = [zw, F1[2]]\n",
    "            ax.plot3D(line_PwF1_xs, line_PwF1_ys, line_PwF1_zs, color=\"blue\", linestyle='--', linewidth=1.5, alpha=1.0)\n",
    "\n",
    "            # Project to normalized camera plane\n",
    "            n1 = 1.0/zr1\n",
    "            x_n1 , y_n1, z_n1 = xr1*n1, yr1*n1, zr1*n1\n",
    "            # Draw projected point on camera plane\n",
    "            ax.scatter(x_n1, y_n1, z_n1, color=\"blue\", s=20)\n",
    "            #ax.text(x_n1 + 0.1, y_n1 + 0.1, z_n1 + 0.2, \"m1\", color=\"blue\")\n",
    "            \n",
    "            # Draw projection of Pr1 through Camera (C) Pinhole\n",
    "            line_Pr1C_xs = [xr1, C[0]]\n",
    "            line_Pr1C_ys = [yr1, C[1]]\n",
    "            line_Pr1C_zs = [zr1, C[2]]\n",
    "            ax.plot3D(line_Pr1C_xs, line_Pr1C_ys, line_Pr1C_zs, color=\"cyan\", linestyle='--', linewidth=1.5, alpha=1.0)\n",
    "\n",
    "            # Reflection via mirror 2:\n",
    "            print(\"MIRROR 2:\")\n",
    "            xr2, yr2, zr2 = get_reflection_point(xw,yw,zw,c2,k2,d,get_reflection_point_bottom,lambda2_func_minus,lambda2_func_plus)\n",
    "            #TODO: use Guo's\n",
    "            xr2, yr2, zr2 = get_reflection_point_bottom_GUO(xw, yw, zw,c2,k2,d,get_reflection_point_bottom)\n",
    "            print(\"World Point (%f,%f,%f) reflects at: (%f,%f,%f)\" % (xw,yw,zw,xr2,yr2,zr2))\n",
    "\n",
    "            ax.scatter(xr2, yr2, zr2, color=\"red\", s=20)\n",
    "            ax.text(xr2 + 0.1, yr2+0.1, zr2, \"P2\", color=\"red\")\n",
    "        \n",
    "            # Plot the Pw-F2 line segment\n",
    "            line_PwF2_xs = [xw, F2[0]]\n",
    "            line_PwF2_ys = [yw, F2[1]]\n",
    "            line_PwF2_zs = [zw, F2[2]]\n",
    "            ax.plot3D(line_PwF2_xs, line_PwF2_ys, line_PwF2_zs, color=\"red\", linestyle='--', linewidth=1.5, alpha=1.0)\n",
    "\n",
    "            # TODO: Project to reflex mirror \n",
    "            line_Pr2Ref_xs = [xr2, F2p[0]]\n",
    "            line_Pr2Ref_ys = [yr2, F2p[1]]\n",
    "            line_Pr2Ref_zs = [zr2, F2p[2]]\n",
    "            ax.plot3D(line_Pr2Ref_xs, line_Pr2Ref_ys, line_Pr2Ref_zs, color=\"pink\", linestyle='--', linewidth=1.5, alpha=1.0)\n",
    "            \n",
    "            # TODO: Draw projection from reflex to real camera Pinhole\n",
    "\n",
    "        plt.show()  # Show figure\n",
    "\n",
    "\n",
    "\n",
    "r_sys = 3.7\n",
    "r_reflex = 1.72\n",
    "c1, k1 = 12.34, 5.73\n",
    "c2, k2 = 24.18, 9.74\n",
    "d = 23.37\n",
    "xw, yw, zw = 4, 6 , 15\n",
    "\n",
    "Pw = [(xw, yw, zw), (-xw, yw, zw), (xw, -yw, zw), (-xw, -yw, zw)]\n",
    "# Pw = [(xw, yw, zw)]\n",
    "\n",
    "C = (0, 0, 0)  # F1'\n",
    "F1 = (0, 0, c1)  # F1\n",
    "F2 = (0, 0, d - c2)  # F2\n",
    "F2p = (0, 0, d)  # F2'\n",
    "f_cam = 1.0\n",
    "s_cam = 0.0\n",
    "draw(c1, c2, k1, k2, d, r_sys, r_reflex, Pw, C, F1, F2, F2p)"
   ]
  },
  {
   "cell_type": "markdown",
   "metadata": {},
   "source": [
    "# Horizontal Depth from Triangulation"
   ]
  },
  {
   "cell_type": "markdown",
   "metadata": {},
   "source": [
    "From `Geometry Expressions`:\n",
    "\n",
    "\\begin{align}\n",
    "D=\\left |\\dfrac{-\\left (-d+c_{1}+c_{2}\\right )\\cdot cos\\left (\\theta_{1}\\right )\\cdot cos\\left (\\theta_{2}\\right )}{sin\\left (\\theta_{2}\\right )\\cdot cos\\left (\\theta_{1}\\right )+sin\\left (\\theta_{1}\\right )\\cdot cos\\left (\\theta_{2}\\right )}\\right |\n",
    "\\end{align}"
   ]
  },
  {
   "cell_type": "code",
   "execution_count": 27,
   "metadata": {
    "collapsed": false
   },
   "outputs": [
    {
     "data": {
      "image/png": "[encoded data removed]",
      "text/latex": [
       "$$- \\frac{B \\cos{\\left (\\theta_{1} \\right )} \\cos{\\left (\\theta_{2} \\right )}}{\\sin{\\left (\\theta_{1} + \\theta_{2} \\right )}}$$"
      ],
      "text/plain": [
       "-B⋅cos(θ₁)⋅cos(θ₂) \n",
       "───────────────────\n",
       "    sin(θ₁ + θ₂)   "
      ]
     },
     "metadata": {},
     "output_type": "display_data"
    },
    {
     "data": {
      "image/png": "[encoded data removed]",
      "text/latex": [
       "$$\\frac{B \\cos{\\left (\\theta_{1} \\right )} \\cos{\\left (\\theta_{2} \\right )}}{\\sin{\\left (\\theta_{1} + \\theta_{2} \\right )}}$$"
      ],
      "text/plain": [
       "B⋅cos(θ₁)⋅cos(θ₂)\n",
       "─────────────────\n",
       "   sin(θ₁ + θ₂)  "
      ]
     },
     "metadata": {},
     "output_type": "display_data"
    },
    {
     "data": {
      "text/plain": [
       "False"
      ]
     },
     "execution_count": 27,
     "metadata": {},
     "output_type": "execute_result"
    }
   ],
   "source": [
    "theta1, theta2 = symbols(\"theta_1, theta_2\", real=True)\n",
    "D_eqn = simplify(-B*cos(theta1)*cos(theta2)/(sin(theta2)*cos(theta1)+sin(theta1)*cos(theta2)))\n",
    "display(D_eqn)\n",
    "D_eqn_2 = B*sin(pi/2-theta1)*sin(pi/2-theta2)/sin(pi-theta1-theta2)\n",
    "display(D_eqn_2)\n",
    "D_eqn == D_eqn_2"
   ]
  },
  {
   "cell_type": "markdown",
   "metadata": {},
   "source": [
    "# Book Example:"
   ]
  },
  {
   "cell_type": "code",
   "execution_count": 116,
   "metadata": {
    "collapsed": false
   },
   "outputs": [],
   "source": [
    "def convert_input(string):\n",
    "    expr = sympify(string)\n",
    "    sym, = expr.free_symbols\n",
    "    x = Symbol(sym.name, real=True)\n",
    "    expr = expr.subs(sym, x)\n",
    "    frac = cancel(together(expr))\n",
    "    return frac, x"
   ]
  },
  {
   "cell_type": "code",
   "execution_count": 117,
   "metadata": {
    "collapsed": false
   },
   "outputs": [
    {
     "data": {
      "image/png": "[encoded data removed]",
      "text/latex": [
       "$$\\frac{1}{x^{2} - 1} \\left(x^{3} + x^{2} + x - 1\\right)$$"
      ],
      "text/plain": [
       " 3    2        \n",
       "x  + x  + x - 1\n",
       "───────────────\n",
       "      2        \n",
       "     x  - 1    "
      ]
     },
     "execution_count": 117,
     "metadata": {},
     "output_type": "execute_result"
    }
   ],
   "source": [
    "frac, x = convert_input('1/(x+1) + 1/(x-1) + x + 1')\n",
    "frac"
   ]
  },
  {
   "cell_type": "code",
   "execution_count": 118,
   "metadata": {
    "collapsed": false
   },
   "outputs": [],
   "source": [
    "def plot_curve(expr, x, (x_min, x_max), (y_min, y_max)):\n",
    "    \"\"\"Plot y=expr(x) over the specified domain\"\"\"\n",
    "    func = lambdify([x], expr)\n",
    "    xs = np.linspace(x_min, x_max, 200)\n",
    "    plt.plot(xs, func(xs))\n",
    "    plt.ylim(y_min, y_max)\n",
    "    plt.xlim(x_min, x_max)\n",
    "    \n",
    "plot_curve(frac, x, (-5, 5), (-10, 10))"
   ]
  },
  {
   "cell_type": "code",
   "execution_count": 118,
   "metadata": {
    "collapsed": false
   },
   "outputs": [],
   "source": []
  }
 ],
 "metadata": {
  "kernelspec": {
   "display_name": "Python 3",
   "language": "python",
   "name": "python3"
  },
  "language_info": {
   "codemirror_mode": {
    "name": "ipython",
    "version": 3
   },
   "file_extension": ".py",
   "mimetype": "text/x-python",
   "name": "python",
   "nbconvert_exporter": "python",
   "pygments_lexer": "ipython3",
   "version": "3.4.3"
  }
 },
 "nbformat": 4,
 "nbformat_minor": 0
}
