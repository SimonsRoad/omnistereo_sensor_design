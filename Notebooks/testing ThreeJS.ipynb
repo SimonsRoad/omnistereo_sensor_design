{
 "cells": [
  {
   "cell_type": "code",
   "execution_count": 11,
   "metadata": {
    "collapsed": false
   },
   "outputs": [
    {
     "name": "stdout",
     "output_type": "stream",
     "text": [
      "This NB was ran at time: Mon Feb  1 14:27:29 2016\n"
     ]
    }
   ],
   "source": [
    "# Testing if the time is cached\n",
    "# It should stay as This NB was ran at time: Mon Feb  1 14:27:29 2016\n",
    "import time\n",
    "\n",
    "localtime = time.asctime( time.localtime(time.time()) )\n",
    "print(\"This NB was ran at time:\", localtime)"
   ]
  },
  {
   "cell_type": "code",
   "execution_count": 6,
   "metadata": {
    "collapsed": false
   },
   "outputs": [],
   "source": [
    "from pythreejs import *\n",
    "import numpy as np\n",
    "from IPython.display import display\n",
    "try:\n",
    "    from ipywidgets import HTML, Text\n",
    "    from traitlets import link, dlink\n",
    "except ImportError:\n",
    "    from IPython.html.widgets import HTML, Text\n",
    "    from IPython.utils.traitlets import link, dlink"
   ]
  },
  {
   "cell_type": "markdown",
   "metadata": {},
   "source": [
    "# Simple sphere and text"
   ]
  },
  {
   "cell_type": "code",
   "execution_count": 7,
   "metadata": {
    "collapsed": true
   },
   "outputs": [],
   "source": [
    "ball = Mesh(geometry=SphereGeometry(radius=1), material=LambertMaterial(color='red'), position=[2,1,0])\n",
    "scene = Scene(children=[ball, AmbientLight(color=0x777777), make_text('Hello World!', height=.6)])\n",
    "c = PerspectiveCamera(position=[0,5,5], up=[0,0,1], children=[DirectionalLight(color='white', \n",
    "                                                                             position=[3,5,1], \n",
    "                                                                             intensity=0.5)])\n",
    "renderer = Renderer(camera=c, scene = scene, controls=[OrbitControls(controlling=c)])\n",
    "display(renderer)"
   ]
  },
  {
   "cell_type": "code",
   "execution_count": 1,
   "metadata": {
    "collapsed": false
   },
   "outputs": [
    {
     "name": "stdout",
     "output_type": "stream",
     "text": [
      "(1920, 1080)\n"
     ]
    }
   ],
   "source": [
    "from omnistereo_sensor_design import common_tools\n",
    "res = common_tools.get_screen_resolution()\n",
    "print(res)"
   ]
  },
  {
   "cell_type": "code",
   "execution_count": 9,
   "metadata": {
    "collapsed": true
   },
   "outputs": [],
   "source": [
    "# TODO\n",
    "# from openmodes.ipython import init_3d\n",
    "#init_3d()"
   ]
  },
  {
   "cell_type": "markdown",
   "metadata": {},
   "source": [
    "**NOTE 1**: These visualizations depends on the module `openmodes`\n",
    "\n",
    "**NOTE 2**: You must call the function init_3d from the module openmodes.ipython. There should be no functions in the cell after this, or the javascript libraries will get lost from the notebook."
   ]
  },
  {
   "cell_type": "code",
   "execution_count": 10,
   "metadata": {
    "collapsed": true
   },
   "outputs": [],
   "source": [
    "# TODO:\n",
    "# sim.plot_3d(solution=I, output_format='webgl', compress_scalars=5)"
   ]
  },
  {
   "cell_type": "code",
   "execution_count": null,
   "metadata": {
    "collapsed": true
   },
   "outputs": [],
   "source": []
  }
 ],
 "metadata": {
  "kernelspec": {
   "display_name": "Python 3",
   "language": "python",
   "name": "python3"
  },
  "language_info": {
   "codemirror_mode": {
    "name": "ipython",
    "version": 3
   },
   "file_extension": ".py",
   "mimetype": "text/x-python",
   "name": "python",
   "nbconvert_exporter": "python",
   "pygments_lexer": "ipython3",
   "version": "3.5.1"
  }
 },
 "nbformat": 4,
 "nbformat_minor": 0
}
